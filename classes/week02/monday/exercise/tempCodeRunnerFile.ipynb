steps = [
    'get teapot with water',
    'get cup',
    'get teabag',
    'turn stove on',
    'place teapot on stove',
    'boil water',
    'pour water into cup',
    'add teabag',
    'dunk 37 times',
    'enjoy tea'
]

# Function to print each step
def make_tea(entries):
    for s in entries:
        print(s)

# Call the function
make_tea(steps)