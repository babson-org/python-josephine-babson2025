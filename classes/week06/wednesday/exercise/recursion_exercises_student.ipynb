{
 "cells": [
  {
   "cell_type": "markdown",
   "id": "0",
   "metadata": {},
   "source": [
    "# Recursion Exercises in Python (Student Version)\n",
    "\n",
    "This notebook contains 5 recursion problems.\n",
    "\n",
    "👉 Your task: Write recursive solutions for each problem in the provided code cells.\n"
   ]
  },
  {
   "cell_type": "markdown",
   "id": "1",
   "metadata": {},
   "source": [
    "## 1. Reverse a String Recursively\n",
    "\n",
    "Write a recursive function `reverse_string(s)` that takes a string and returns the reversed string.\n",
    "\n",
    "Example:\n",
    "```python\n",
    "reverse_string(\"hello\")  # \"olleh\"\n",
    "```\n"
   ]
  },
  {
   "cell_type": "code",
   "execution_count": null,
   "id": "2",
   "metadata": {},
   "outputs": [],
   "source": [
    "# TODO: Implement reverse_string(s)\n",
    "def reverse_string(s):\n",
    "    pass\n",
    "\n",
    "# Test your function\n",
    "# reverse_string(\"hello\")\n"
   ]
  },
  {
   "cell_type": "markdown",
   "id": "3",
   "metadata": {},
   "source": [
    "## 2. Find the Maximum Element in a List\n",
    "\n",
    "Write a recursive function `find_max(lst)` that returns the maximum element in a non-empty list of integers.\n",
    "\n",
    "Example:\n",
    "```python\n",
    "find_max([3, 7, 2, 9, 5])  # 9\n",
    "```\n"
   ]
  },
  {
   "cell_type": "code",
   "execution_count": null,
   "id": "4",
   "metadata": {},
   "outputs": [],
   "source": [
    "# TODO: Implement find_max(lst)\n",
    "def find_max(lst):\n",
    "    pass\n",
    "\n",
    "# Test your function\n",
    "# find_max([3, 7, 2, 9, 5])\n"
   ]
  },
  {
   "cell_type": "markdown",
   "id": "5",
   "metadata": {},
   "source": [
    "## 3. Count the Number of Digits in an Integer\n",
    "\n",
    "Write a recursive function `count_digits(n)` that returns the number of digits in an integer `n`.\n",
    "\n",
    "Example:\n",
    "```python\n",
    "count_digits(12345)  # 5\n",
    "```\n"
   ]
  },
  {
   "cell_type": "code",
   "execution_count": null,
   "id": "6",
   "metadata": {},
   "outputs": [],
   "source": [
    "# TODO: Implement count_digits(n)\n",
    "def count_digits(n):\n",
    "    pass\n",
    "\n",
    "# Test your function\n",
    "# count_digits(12345)\n"
   ]
  },
  {
   "cell_type": "markdown",
   "id": "7",
   "metadata": {},
   "source": [
    "## 4. Check if a Word is a Palindrome\n",
    "\n",
    "Write a recursive function `is_palindrome(word)` that returns True if the word is a palindrome, otherwise False.\n",
    "\n",
    "Examples:\n",
    "```python\n",
    "is_palindrome(\"racecar\")  # True\n",
    "is_palindrome(\"python\")   # False\n",
    "```\n"
   ]
  },
  {
   "cell_type": "code",
   "execution_count": null,
   "id": "8",
   "metadata": {},
   "outputs": [],
   "source": [
    "# TODO: Implement is_palindrome(word)\n",
    "def is_palindrome(word):\n",
    "    pass\n",
    "\n",
    "# Test your function\n",
    "# is_palindrome(\"racecar\")\n",
    "# is_palindrome(\"python\")\n"
   ]
  },
  {
   "cell_type": "markdown",
   "id": "9",
   "metadata": {},
   "source": [
    "## 5. Draw a Triangle of Stars\n",
    "\n",
    "Write a recursive function `triangle(n)` that prints a right-angled triangle with `n` rows of `*`.\n",
    "\n",
    "Example for n=4:\n",
    "```\n",
    "*\n",
    "**\n",
    "***\n",
    "****\n",
    "```\n"
   ]
  },
  {
   "cell_type": "code",
   "execution_count": null,
   "id": "10",
   "metadata": {},
   "outputs": [],
   "source": [
    "# TODO: Implement triangle(n)\n",
    "def triangle(n):\n",
    "    pass\n",
    "\n",
    "# Test your function\n",
    "# triangle(4)\n"
   ]
  }
 ],
 "metadata": {},
 "nbformat": 4,
 "nbformat_minor": 5
}
