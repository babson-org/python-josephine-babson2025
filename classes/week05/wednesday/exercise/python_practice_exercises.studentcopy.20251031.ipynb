{
 "cells": [
  {
   "cell_type": "markdown",
   "id": "0",
   "metadata": {},
   "source": [
    "# 📝 Python Practice Exercises\n",
    "This notebook contains 20 exercises based on Python fundamentals."
   ]
  },
  {
   "cell_type": "markdown",
   "id": "1",
   "metadata": {},
   "source": [
    "**Exercise 1: Arithmetic Practice**\n",
    "\n",
    "Write Python expressions that calculate:\n",
    "- 7 squared\n",
    "- the remainder of 29 divided by 5\n",
    "- floor division of 29 by 5"
   ]
  },
  {
   "cell_type": "code",
   "execution_count": 5,
   "id": "2",
   "metadata": {},
   "outputs": [
    {
     "name": "stdout",
     "output_type": "stream",
     "text": [
      "49 4 5\n"
     ]
    }
   ],
   "source": [
    "total = 7 **2\n",
    "remain = 29 % 5\n",
    "floor = 29 // 5\n",
    "\n",
    "print(total,remain, floor)"
   ]
  },
  {
   "cell_type": "markdown",
   "id": "3",
   "metadata": {},
   "source": [
    "**Exercise 2: Comparison Chain**\n",
    "\n",
    "Check if the variable `x = 7` is greater than 5 and less than 10 in one statement."
   ]
  },
  {
   "cell_type": "code",
   "execution_count": 6,
   "id": "4",
   "metadata": {},
   "outputs": [
    {
     "name": "stdout",
     "output_type": "stream",
     "text": [
      "True\n"
     ]
    }
   ],
   "source": [
    "x = 7\n",
    "if x > 5 and x < 10:\n",
    "    pass\n",
    "\n",
    "if 5 < x < 10: print(True)\n"
   ]
  },
  {
   "cell_type": "markdown",
   "id": "5",
   "metadata": {},
   "source": [
    "**Exercise 3: Logical Operators**\n",
    "\n",
    "Write code that checks whether `'b'` is in `'zebra'` **and** `'c'` is not in `'zebra'`."
   ]
  },
  {
   "cell_type": "code",
   "execution_count": 7,
   "id": "6",
   "metadata": {},
   "outputs": [
    {
     "name": "stdout",
     "output_type": "stream",
     "text": [
      "b is in c is out\n"
     ]
    }
   ],
   "source": [
    "word = 'zebra'\n",
    "\n",
    "if 'b' in word and 'c' not in word: print('b is in c is out')"
   ]
  },
  {
   "cell_type": "markdown",
   "id": "7",
   "metadata": {},
   "source": [
    "**Exercise 4: For Loop Range**\n",
    "\n",
    "Use a `for` loop with `range()` to print the numbers 10 down to 1."
   ]
  },
  {
   "cell_type": "code",
   "execution_count": 8,
   "id": "8",
   "metadata": {},
   "outputs": [
    {
     "name": "stdout",
     "output_type": "stream",
     "text": [
      "10\n",
      "9\n",
      "8\n",
      "7\n",
      "6\n",
      "5\n",
      "4\n",
      "3\n",
      "2\n",
      "1\n"
     ]
    }
   ],
   "source": [
    "for i in range(10,0,-1):\n",
    "    print(i)"
   ]
  },
  {
   "cell_type": "markdown",
   "id": "9",
   "metadata": {},
   "source": [
    "**Exercise 5: While Loop Counter**\n",
    "\n",
    "Write a `while` loop that counts from 0 to 4 and prints the numbers."
   ]
  },
  {
   "cell_type": "code",
   "execution_count": 9,
   "id": "10",
   "metadata": {},
   "outputs": [
    {
     "name": "stdout",
     "output_type": "stream",
     "text": [
      "0\n",
      "1\n",
      "2\n",
      "3\n",
      "4\n"
     ]
    }
   ],
   "source": [
    "i = 0\n",
    "while i < 5:\n",
    "    print(i)\n",
    "    i += 1"
   ]
  },
  {
   "cell_type": "markdown",
   "id": "11",
   "metadata": {},
   "source": [
    "**Exercise 6: Simple List Operations**\n",
    "\n",
    "Create a list `[1, 2, 3]`, append the number `4`, and then remove `2`. Print the final list."
   ]
  },
  {
   "cell_type": "code",
   "execution_count": 10,
   "id": "12",
   "metadata": {},
   "outputs": [
    {
     "name": "stdout",
     "output_type": "stream",
     "text": [
      "[1, 2, 3, 4]\n",
      "[1, 3, 4]\n"
     ]
    }
   ],
   "source": [
    "mylist = [1,2,3]\n",
    "mylist.append(4)\n",
    "print(mylist)\n",
    "\n",
    "mylist.pop(1)\n",
    "print(mylist)"
   ]
  },
  {
   "cell_type": "markdown",
   "id": "13",
   "metadata": {},
   "source": [
    "**Exercise 7: Tuple Count**\n",
    "\n",
    "Given `t = (1, 2, 2, 3)`, use a tuple method to count how many times `2` appears."
   ]
  },
  {
   "cell_type": "code",
   "execution_count": 11,
   "id": "14",
   "metadata": {},
   "outputs": [
    {
     "name": "stdout",
     "output_type": "stream",
     "text": [
      "2\n"
     ]
    }
   ],
   "source": [
    "t = (1,2,2,3)\n",
    "print(t.count(2))"
   ]
  },
  {
   "cell_type": "markdown",
   "id": "15",
   "metadata": {},
   "source": [
    "**Exercise 8: Set Creation**\n",
    "\n",
    "Create a set from the string `'balloon'` and print it. Explain why some letters only appear once."
   ]
  },
  {
   "cell_type": "code",
   "execution_count": 12,
   "id": "16",
   "metadata": {},
   "outputs": [],
   "source": [
    "word = 'balloon'\n",
    "letters = set(word)"
   ]
  },
  {
   "cell_type": "markdown",
   "id": "17",
   "metadata": {},
   "source": [
    "**Exercise 9: If/Else with Input**\n",
    "\n",
    "Ask the user for a number. Print `'Even'` if the number is even, otherwise print `'Odd'`."
   ]
  },
  {
   "cell_type": "code",
   "execution_count": 13,
   "id": "18",
   "metadata": {},
   "outputs": [
    {
     "name": "stdout",
     "output_type": "stream",
     "text": [
      "even\n"
     ]
    }
   ],
   "source": [
    "num = int(input('enter an integer'))\n",
    "if num % 2 == 0: print('even')\n",
    "else:print('odd')"
   ]
  },
  {
   "cell_type": "markdown",
   "id": "19",
   "metadata": {},
   "source": [
    "**Exercise 10: Fix Wrong Dictionary Value**\n",
    "\n",
    "`student = {\"name\": \"Alice\", \"age\": 20, \"grade\": 85}`\n",
    "\n",
    "Accidentally, grade should have been `90`. Update it using `update()`."
   ]
  },
  {
   "cell_type": "code",
   "execution_count": 14,
   "id": "20",
   "metadata": {},
   "outputs": [
    {
     "name": "stdout",
     "output_type": "stream",
     "text": [
      "{'name': 'Alice', 'age': 20, 'grade': 85, 'newgrade': 90}\n"
     ]
    }
   ],
   "source": [
    "student = {\"name\": \"Alice\", \"age\": 20, \"grade\": 85}\n",
    "student.update({'newgrade': 90})\n",
    "print(student)"
   ]
  },
  {
   "cell_type": "markdown",
   "id": "21",
   "metadata": {},
   "source": [
    "**Exercise 11: Using pop() on Lists**\n",
    "\n",
    "Create `nums = [10, 20, 30, 40]`.\n",
    "- Pop the last number\n",
    "- Pop the first number\n",
    "Print the final list."
   ]
  },
  {
   "cell_type": "code",
   "execution_count": 15,
   "id": "22",
   "metadata": {},
   "outputs": [
    {
     "name": "stdout",
     "output_type": "stream",
     "text": [
      "[10, 20, 30]\n",
      "[20, 30]\n"
     ]
    }
   ],
   "source": [
    "nums= [10,20,30,40]\n",
    "nums.pop()\n",
    "print(nums)\n",
    "\n",
    "nums.pop(0)\n",
    "print(nums)\n",
    "\n",
    "#can also use nums.pop(3) or nums.pop(-1), need to be done by index"
   ]
  },
  {
   "cell_type": "markdown",
   "id": "23",
   "metadata": {},
   "source": [
    "**Exercise 12: Dictionary Safe Lookup**\n",
    "\n",
    "Given `student = {\"name\": \"Alice\"}`, use `.get()` to print `'N/A'` if `'grade'` does not exist."
   ]
  },
  {
   "cell_type": "code",
   "execution_count": 17,
   "id": "24",
   "metadata": {},
   "outputs": [
    {
     "name": "stdout",
     "output_type": "stream",
     "text": [
      "N/A\n"
     ]
    }
   ],
   "source": [
    "student = {'name': 'Alice'}\n",
    "print(student.get('grade', 'N/A'))"
   ]
  },
  {
   "cell_type": "markdown",
   "id": "25",
   "metadata": {},
   "source": [
    "**Exercise 13: Loop + If**\n",
    "\n",
    "Loop through the list `[2, 5, 8, 11, 14]`. Print only the numbers greater than 10."
   ]
  },
  {
   "cell_type": "code",
   "execution_count": 18,
   "id": "26",
   "metadata": {},
   "outputs": [
    {
     "name": "stdout",
     "output_type": "stream",
     "text": [
      "11\n",
      "14\n"
     ]
    }
   ],
   "source": [
    "nums = [2, 5, 8, 11, 14]\n",
    "for num in nums:\n",
    "    if num > 10: print(num)"
   ]
  },
  {
   "cell_type": "markdown",
   "id": "27",
   "metadata": {},
   "source": [
    "**Exercise 14: Try/Except Handling**\n",
    "\n",
    "Ask the user for an integer. If they type something invalid, print `'Invalid input'` instead of crashing."
   ]
  },
  {
   "cell_type": "code",
   "execution_count": 28,
   "id": "28",
   "metadata": {},
   "outputs": [
    {
     "name": "stdout",
     "output_type": "stream",
     "text": [
      "Invalid Input\n"
     ]
    }
   ],
   "source": [
    "try:\n",
    "    num = int(input('Please enter an integer'))\n",
    "except ValueError:\n",
    "    print('Invalid Input')"
   ]
  },
  {
   "cell_type": "markdown",
   "id": "29",
   "metadata": {},
   "source": [
    "**Exercise 15: Dictionary popitem()**\n",
    "\n",
    "Create a dictionary with three key-value pairs. Call `popitem()` and print both the returned item and the dictionary after."
   ]
  },
  {
   "cell_type": "code",
   "execution_count": 29,
   "id": "30",
   "metadata": {},
   "outputs": [
    {
     "name": "stdout",
     "output_type": "stream",
     "text": [
      "('subject', 'math101')\n",
      "{'grade': 90, 'name': 'Alice'}\n"
     ]
    }
   ],
   "source": [
    "dict = {'grade': 90, 'name': 'Alice', 'subject': 'math101'}\n",
    "\n",
    "print(dict.popitem())\n",
    "print(dict)"
   ]
  },
  {
   "cell_type": "markdown",
   "id": "31",
   "metadata": {},
   "source": [
    "**Exercise 16: Reverse a List**\n",
    "\n",
    "Write a program that creates a list of numbers from 1 to 5 and then reverses it in place."
   ]
  },
  {
   "cell_type": "code",
   "execution_count": 31,
   "id": "32",
   "metadata": {},
   "outputs": [
    {
     "name": "stdout",
     "output_type": "stream",
     "text": [
      "[5, 4, 3, 2, 1]\n"
     ]
    }
   ],
   "source": [
    "myList = [1, 2, 3, 4, 5]\n",
    "myList.reverse()\n",
    "print(myList)"
   ]
  },
  {
   "cell_type": "markdown",
   "id": "33",
   "metadata": {},
   "source": [
    "\n",
    "**Exercise 17: Nested Loop with Condition**\n",
    "\n",
    "Print a multiplication table (1–5) but skip printing results where the product is greater than 12.\n",
    "\n",
    "expected output:\n",
    "\n",
    "1 x 1 = 1  \n",
    "1 x 2 = 2   \n",
    "1 x 3 = 3   \n",
    "1 x 4 = 4   \n",
    "1 x 5 = 5   \n",
    "\n",
    "2 x 1 = 2   \n",
    "2 x 2 = 4   \n",
    "2 x 3 = 6   \n",
    "2 x 4 = 8   \n",
    "2 x 5 = 10   \n",
    "\n",
    "3 x 1 = 3   \n",
    "3 x 2 = 6   \n",
    "3 x 3 = 9   \n",
    "3 x 4 = 12   \n",
    "\n",
    "4 x 1 = 4  \n",
    "4 x 2 = 8   \n",
    " \n",
    "5 x 1 = 5   \n",
    "5 x 2 = 10   \n"
   ]
  },
  {
   "cell_type": "code",
   "execution_count": 25,
   "id": "34",
   "metadata": {},
   "outputs": [
    {
     "name": "stdout",
     "output_type": "stream",
     "text": [
      "1 x 1 = 1\n",
      "1 x 2 = 2\n",
      "1 x 3 = 3\n",
      "1 x 4 = 4\n",
      "1 x 5 = 5\n",
      "\n",
      "2 x 1 = 2\n",
      "2 x 2 = 4\n",
      "2 x 3 = 6\n",
      "2 x 4 = 8\n",
      "2 x 5 = 10\n",
      "\n",
      "3 x 1 = 3\n",
      "3 x 2 = 6\n",
      "3 x 3 = 9\n",
      "3 x 4 = 12\n",
      "\n",
      "4 x 1 = 4\n",
      "4 x 2 = 8\n",
      "4 x 3 = 12\n",
      "\n",
      "5 x 1 = 5\n",
      "5 x 2 = 10\n",
      "\n"
     ]
    }
   ],
   "source": [
    "for idx in range(1,6): \n",
    "    for jdx in range (1,6):\n",
    "        if idx * jdx <= 12:\n",
    "            print(f'{idx} x {jdx} = {idx * jdx}')\n",
    "    print()"
   ]
  },
  {
   "cell_type": "markdown",
   "id": "35",
   "metadata": {},
   "source": [
    "**Exercise 18: Grades Dictionary**\n",
    "\n",
    "Create a dictionary of students where each value is a list of grades. Example:\n",
    "```python\n",
    "students = {\"Alice\": [90, 85], \"Bob\": [70, 75]}\n",
    "```\n",
    "Loop through and print each student’s name and their average grade."
   ]
  },
  {
   "cell_type": "code",
   "execution_count": 1,
   "id": "36",
   "metadata": {},
   "outputs": [
    {
     "name": "stdout",
     "output_type": "stream",
     "text": [
      "Alice\n",
      "[90, 85]\n",
      "Average grade: 87.5\n",
      "\n",
      "Bob\n",
      "[70, 75]\n",
      "Average grade: 72.5\n",
      "\n"
     ]
    }
   ],
   "source": [
    "students = {\"Alice\": [90, 85], \"Bob\": [70, 75]}\n",
    "\n",
    "for name in students:\n",
    "    print(name)\n",
    "    grades = students[name]\n",
    "    print(grades)\n",
    "    average = sum(grades) / len(grades)\n",
    "    print(f\"Average grade: {average}\")\n",
    "    print()"
   ]
  },
  {
   "cell_type": "markdown",
   "id": "37",
   "metadata": {},
   "source": [
    "**Exercise 19: List of Dictionaries Fix**\n",
    "\n",
    "You are given a list of dictionaries representing items for sale:\n",
    "```python\n",
    "items = [\n",
    "    {\"name\": \"Pen\", \"qty\": 10, \"price\": 2, \"total\": 25},  # wrong\n",
    "    {\"name\": \"Book\", \"qty\": 3, \"price\": 10, \"total\": 30}\n",
    "]\n",
    "```\n",
    "Loop through and fix any incorrect `total` values."
   ]
  },
  {
   "cell_type": "code",
   "execution_count": 4,
   "id": "38",
   "metadata": {},
   "outputs": [
    {
     "name": "stdout",
     "output_type": "stream",
     "text": [
      "[{'name': 'Pen', 'qty': 10, 'price': 2, 'total': 20}, {'name': 'Book', 'qty': 3, 'price': 10, 'total': 30}]\n"
     ]
    }
   ],
   "source": [
    "items = [\n",
    "    {\"name\": \"Pen\", \"qty\": 10, \"price\": 2, \"total\": 25},  # wrong\n",
    "    {\"name\": \"Book\", \"qty\": 3, \"price\": 10, \"total\": 30}\n",
    "]\n",
    "\n",
    "for item in items:\n",
    "    correct_total = item[\"qty\"] * item[\"price\"]\n",
    "    if item[\"total\"] != correct_total:\n",
    "        item[\"total\"] = correct_total   # fix it\n",
    "\n",
    "print(items)"
   ]
  },
  {
   "cell_type": "markdown",
   "id": "39",
   "metadata": {},
   "source": [
    "**Exercise 20: Unique Words**\n",
    "\n",
    "Given a string sentence, split it into words and create a set of unique words. Print the set and its length."
   ]
  },
  {
   "cell_type": "code",
   "execution_count": 3,
   "id": "40",
   "metadata": {},
   "outputs": [
    {
     "name": "stdout",
     "output_type": "stream",
     "text": [
      "{'black', 'wore', 'cat', 'store', 'his', 'the', 'hat', 'in'}\n",
      "8\n"
     ]
    }
   ],
   "source": [
    "txt = 'the cat in the hat wore his black hat in the store'\n",
    "words = txt.split()\n",
    "unique = set(words)\n",
    "print(unique)\n",
    "print(len(unique))"
   ]
  }
 ],
 "metadata": {
  "kernelspec": {
   "display_name": "venv",
   "language": "python",
   "name": "python3"
  },
  "language_info": {
   "codemirror_mode": {
    "name": "ipython",
    "version": 3
   },
   "file_extension": ".py",
   "mimetype": "text/x-python",
   "name": "python",
   "nbconvert_exporter": "python",
   "pygments_lexer": "ipython3",
   "version": "3.10.18"
  }
 },
 "nbformat": 4,
 "nbformat_minor": 5
}
