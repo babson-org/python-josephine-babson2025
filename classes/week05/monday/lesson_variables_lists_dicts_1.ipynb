{
 "cells": [
  {
   "cell_type": "markdown",
   "id": "0",
   "metadata": {},
   "source": [
    "# 📘 Variables, Lists, and Dictionaries\n",
    "\n",
    "### Objective\n",
    "Scalars and data structures in Python. Each code cell demonstrates one concept or print statement for clarity."
   ]
  },
  {
   "cell_type": "markdown",
   "id": "1",
   "metadata": {},
   "source": [
    "## 1. Introduction: Variables"
   ]
  },
  {
   "cell_type": "markdown",
   "id": "2",
   "metadata": {},
   "source": [
    "Variables are containers that hold data. Every variable has a data type.\n",
    "\n",
    "- If a variable holds a single value → **scalar** (or primitive).\n",
    "- If it holds multiple values → **data structure**."
   ]
  },
  {
   "cell_type": "code",
   "execution_count": null,
   "id": "3",
   "metadata": {},
   "outputs": [],
   "source": [
    "print_flag = False"
   ]
  },
  {
   "cell_type": "markdown",
   "id": "4",
   "metadata": {},
   "source": [
    "**Guiding Question:**\n",
    "\n",
    "👉 What type of variable is this?"
   ]
  },
  {
   "cell_type": "markdown",
   "id": "5",
   "metadata": {},
   "source": [
    "## 2. Scalars / Primitive Variables"
   ]
  },
  {
   "cell_type": "code",
   "execution_count": 2,
   "id": "6",
   "metadata": {},
   "outputs": [],
   "source": [
    "fname = 'Peggy'           # string\n",
    "lname = 'Lipton'          # string\n",
    "dob   = '2006-08-30'      # string\n",
    "year  = 'Senior'          # string\n",
    "attendance_rate = 0.92    # float\n",
    "credits = 122"
   ]
  },
  {
   "cell_type": "markdown",
   "id": "7",
   "metadata": {},
   "source": [
    "**Guiding Question:**\n",
    "\n",
    "👉 How many different types of variables do we have here?"
   ]
  },
  {
   "cell_type": "markdown",
   "id": "8",
   "metadata": {},
   "source": [
    "## 3. Motivation for Data Structures"
   ]
  },
  {
   "cell_type": "markdown",
   "id": "9",
   "metadata": {},
   "source": [
    "The data is expressed as separate items but all the items relate to the same entity. It makes more sense to keep this data in a data structure."
   ]
  },
  {
   "cell_type": "markdown",
   "id": "10",
   "metadata": {},
   "source": [
    "**Guiding Question:**\n",
    "\n",
    "👉 What kind of data structure could we use to represent this student? Why?\n",
    "\n",
    "    -list\n",
    "    -dictionary\n",
    "    -set\n",
    "    -possibly tuple"
   ]
  },
  {
   "cell_type": "markdown",
   "id": "11",
   "metadata": {},
   "source": [
    "## 4. Lists"
   ]
  },
  {
   "cell_type": "code",
   "execution_count": 3,
   "id": "12",
   "metadata": {},
   "outputs": [],
   "source": [
    "student = [fname, lname, dob, year, attendance_rate, credits]"
   ]
  },
  {
   "cell_type": "code",
   "execution_count": null,
   "id": "13",
   "metadata": {},
   "outputs": [],
   "source": [
    "print(student[3])"
   ]
  },
  {
   "cell_type": "markdown",
   "id": "14",
   "metadata": {},
   "source": [
    "**Guiding Question:**\n",
    "\n",
    "👉 What does the programmer have to know in order to use this student list correctly?\n",
    "\n",
    "    -> what each of the values hold\n",
    "    -> what the order is -otherwise will crash if someone puts in the wrong order\n",
    "    -> doesn't need to be all the same type in a list, (strings, booleans, numbers, etc.)\n",
    "    "
   ]
  },
  {
   "cell_type": "markdown",
   "id": "15",
   "metadata": {},
   "source": [
    "## 5. Dictionaries"
   ]
  },
  {
   "cell_type": "code",
   "execution_count": 4,
   "id": "16",
   "metadata": {},
   "outputs": [],
   "source": [
    "student = {\n",
    "    'fname': 'Peggy',\n",
    "    'lname': 'Lipton',\n",
    "    'dob': '2006-08-30',\n",
    "    'year': 'Senior',\n",
    "    'attendance_rate': 0.92,\n",
    "    'credits': 122\n",
    "}"
   ]
  },
  {
   "cell_type": "code",
   "execution_count": 5,
   "id": "17",
   "metadata": {},
   "outputs": [
    {
     "name": "stdout",
     "output_type": "stream",
     "text": [
      "Senior\n"
     ]
    }
   ],
   "source": [
    "print(student['year'])"
   ]
  },
  {
   "cell_type": "code",
   "execution_count": null,
   "id": "18",
   "metadata": {},
   "outputs": [],
   "source": [
    "for key in student:\n",
    "    print(key)\n",
    "\n",
    "#prints everything on the left side of the colon"
   ]
  },
  {
   "cell_type": "code",
   "execution_count": null,
   "id": "19",
   "metadata": {},
   "outputs": [],
   "source": [
    "for key in student.keys():\n",
    "    print(key)\n",
    "\n",
    "#simpler way to do the same thing"
   ]
  },
  {
   "cell_type": "code",
   "execution_count": null,
   "id": "20",
   "metadata": {},
   "outputs": [],
   "source": [
    "for value in student.values():\n",
    "    print(value)\n",
    "\n",
    "#gives everything on the right side of the colon"
   ]
  },
  {
   "cell_type": "code",
   "execution_count": null,
   "id": "21",
   "metadata": {},
   "outputs": [],
   "source": [
    "for key, value in student.items():\n",
    "    print(f\"{key} = {value}\")\n",
    "\n",
    "'''\n",
    "print(student['gpa']) #right now would return an error, can avoid by putting in a try except block\n",
    "\n",
    "'''\n",
    "\n",
    "#gives both keys and items, full set of info"
   ]
  },
  {
   "cell_type": "code",
   "execution_count": null,
   "id": "22",
   "metadata": {},
   "outputs": [],
   "source": [
    "print(student.get('gpa'))\n",
    "\n",
    "#can't find it returns none"
   ]
  },
  {
   "cell_type": "code",
   "execution_count": null,
   "id": "23",
   "metadata": {},
   "outputs": [],
   "source": [
    "print(student.get('gpa', 'NEEDS TO STUDY'))"
   ]
  },
  {
   "cell_type": "code",
   "execution_count": null,
   "id": "24",
   "metadata": {},
   "outputs": [],
   "source": [
    "student.setdefault('gpa', 0.0)\n",
    "print(student)\n",
    "\n",
    "#if key exists return value, if key doesn't exist create a new key with a default value"
   ]
  },
  {
   "cell_type": "markdown",
   "id": "25",
   "metadata": {},
   "source": [
    "## 6a. List of Lists"
   ]
  },
  {
   "cell_type": "code",
   "execution_count": null,
   "id": "26",
   "metadata": {},
   "outputs": [],
   "source": [
    "board = [\n",
    "    [1,2,3],\n",
    "    [4,5,6],\n",
    "    [7,8,9]\n",
    "]"
   ]
  },
  {
   "cell_type": "code",
   "execution_count": null,
   "id": "27",
   "metadata": {},
   "outputs": [],
   "source": [
    "for row in board:\n",
    "    print(row)"
   ]
  },
  {
   "cell_type": "code",
   "execution_count": null,
   "id": "28",
   "metadata": {},
   "outputs": [],
   "source": [
    "for row in range(3):\n",
    "    for col in range(3):\n",
    "        print(str(board[row][col]) + ' ', end='')\n",
    "    print()"
   ]
  },
  {
   "cell_type": "markdown",
   "id": "29",
   "metadata": {},
   "source": [
    "**Guiding Question:**\n",
    "\n",
    "👉 Why did we need `str()` here?\n",
    "\n",
    "    -> when you concatenate (putting together things in a chain or series) must use strings"
   ]
  },
  {
   "cell_type": "markdown",
   "id": "30",
   "metadata": {},
   "source": [
    "## 6b. List of Dictionaries"
   ]
  },
  {
   "cell_type": "code",
   "execution_count": null,
   "id": "31",
   "metadata": {},
   "outputs": [],
   "source": [
    "students = []\n",
    "students.append(student)\n",
    "from pprint import pprint\n",
    "pprint(students)"
   ]
  },
  {
   "cell_type": "code",
   "execution_count": null,
   "id": "32",
   "metadata": {},
   "outputs": [],
   "source": [
    "courses = ['Biology','Physics','Topology','20th Century Poets']\n",
    "student['courses'] = courses\n",
    "print(students[0]['courses'][2])"
   ]
  },
  {
   "cell_type": "markdown",
   "id": "33",
   "metadata": {},
   "source": [
    "## 📝 Practice Problems "
   ]
  },
  {
   "cell_type": "markdown",
   "id": "34",
   "metadata": {},
   "source": [
    "**1. Create a dictionary `attendance` with three students as keys and the number of classes they attended as values. Print the student with the highest attendance.**"
   ]
  },
  {
   "cell_type": "code",
   "execution_count": 8,
   "id": "35",
   "metadata": {},
   "outputs": [
    {
     "name": "stdout",
     "output_type": "stream",
     "text": [
      "Bob\n"
     ]
    }
   ],
   "source": [
    "attendance = {'Alice': 18, 'Bob': 20, 'Carol': 15}\n",
    "\n",
    "max_days = 0 #set as a holder\n",
    "name = None #set as holder\n",
    "\n",
    "#need to loop through dictionary\n",
    "\n",
    "for key in attendance:\n",
    "    if attendance[key] > max_days:\n",
    "        name = key\n",
    "        max_days = attendance[key]\n",
    "\n",
    "print(name)\n"
   ]
  },
  {
   "cell_type": "markdown",
   "id": "36",
   "metadata": {},
   "source": [
    "**2. Represent a deck of four playing cards using a list of dictionaries, where each dict has `'rank'` and `'suit'`. Print the suit of the third card.**"
   ]
  },
  {
   "cell_type": "code",
   "execution_count": null,
   "id": "37",
   "metadata": {},
   "outputs": [
    {
     "name": "stdout",
     "output_type": "stream",
     "text": [
      "Spade\n"
     ]
    }
   ],
   "source": [
    "cards = [{'rank': 'J', 'suit':'Hearts'}, {'rank': 7, 'suit': 'Clubs'}, {'rank':9, 'suit': 'Spades'}, {'rank': 3, 'suit': 'Diamonds'}]\n",
    "\n",
    "print(cards[2]['suit']) #index into cards (list), getting index 2 (third position), looking for suit key"
   ]
  },
  {
   "cell_type": "markdown",
   "id": "38",
   "metadata": {},
   "source": [
    "**3. Create a 3×3 tic-tac-toe board as a list of lists. Write code to mark the center square with `'X'`.**"
   ]
  },
  {
   "cell_type": "code",
   "execution_count": null,
   "id": "39",
   "metadata": {},
   "outputs": [],
   "source": []
  },
  {
   "cell_type": "markdown",
   "id": "40",
   "metadata": {},
   "source": [
    "**4. Suppose you have a dictionary of courses with course names as keys and credit hours as values. Write code to compute the total credit hours.**"
   ]
  },
  {
   "cell_type": "code",
   "execution_count": null,
   "id": "41",
   "metadata": {},
   "outputs": [],
   "source": []
  },
  {
   "cell_type": "markdown",
   "id": "42",
   "metadata": {},
   "source": [
    "**5. Given a list of tuples like `[('Alice', 3.5), ('Bob', 2.8)]`, convert it into a dictionary mapping student names to GPAs.**"
   ]
  },
  {
   "cell_type": "code",
   "execution_count": null,
   "id": "43",
   "metadata": {},
   "outputs": [],
   "source": []
  },
  {
   "cell_type": "markdown",
   "id": "44",
   "metadata": {},
   "source": [
    "**6. Extend the `student` dictionary to include a key `'clubs'` that stores a list of extracurricular activities. Add two clubs and print the updated dict.**"
   ]
  },
  {
   "cell_type": "code",
   "execution_count": null,
   "id": "45",
   "metadata": {},
   "outputs": [],
   "source": []
  }
 ],
 "metadata": {
  "kernelspec": {
   "display_name": "venv",
   "language": "python",
   "name": "python3"
  },
  "language_info": {
   "codemirror_mode": {
    "name": "ipython",
    "version": 3
   },
   "file_extension": ".py",
   "mimetype": "text/x-python",
   "name": "python",
   "nbconvert_exporter": "python",
   "pygments_lexer": "ipython3",
   "version": "3.10.18"
  }
 },
 "nbformat": 4,
 "nbformat_minor": 5
}
