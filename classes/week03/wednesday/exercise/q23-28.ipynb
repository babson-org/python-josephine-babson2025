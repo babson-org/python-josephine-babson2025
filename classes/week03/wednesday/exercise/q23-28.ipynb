{
  "cells": [
    {
      "cell_type": "markdown",
      "metadata": {},
      "source": [
        "# 🧪 Lab 1 Reinforcement Exercises\n",
        "These exercises build on Lab 1 concepts: input handling, string manipulation, control flow, and basic algorithms.\n",
        "Each problem includes a full description and a code cell for your solution."
      ]
    },
    {
      "cell_type": "markdown",
      "metadata": {},
      "source": [
        "## 🔷 Exercise 23: Diamond with Custom Character\n",
        "**Problem:** Modify the diamond-drawing logic so the user can choose the character used to draw the diamond. The diamond should remain symmetric and centered.\n",
        "              Make the Diamond solid fill  i.e. :\n\n",
        "               *\n",
        "              ***\n",
        "               *\n",
        "\n",
        "**Input:**\n",
        "- An odd integer for the height of the diamond\n",
        "- A single character to use for drawing\n",
        "\n",
        "**Output:**\n",
        "- A symmetric solid diamond printed using the chosen character"
      ]
    },
    {
      "cell_type": "code",
      "execution_count": null,
      "metadata": {},
      "outputs": [],
      "source": []
    },
    {
      "cell_type": "markdown",
      "metadata": {},
      "source": [
        "## 🔷 Exercise 24: Diamond Height Validation\n",
        "**Problem:** Prompt the user for an odd number greater than 1. If the input is invalid, display an error and ask again until a valid number is entered.\n",       
        "\n",
        "**Input:**\n",
        "- A string from the user (may or may not be a valid number)\n",
        "\n",
        "**Output:**\n",
        "- A confirmation message when a valid odd number > 1 is entered\n",
        "- Error messages for invalid inputs"
      ]
    },
    {
      "cell_type": "code",
      "execution_count": null,
      "metadata": {},
      "outputs": [],
      "source": []
    },
    {
      "cell_type": "markdown",
      "metadata": {},
      "source": [
        "## 🟩 Exercise 25: Vowel and Consonant Counter\n",
        "**Problem:** Ask the user for a block of text. Count and display the number of vowels and consonants. Ignore non-letter characters.\n",
        "\n",
        "**Input:**\n",
        "- A string of text\n",
        "\n",
        "**Output:**\n",
        "- Number of vowels\n",
        "- Number of consonants"
      ]
    },
    {
      "cell_type": "code",
      "execution_count": null,
      "metadata": {},
      "outputs": [],
      "source": []
    },
    {
      "cell_type": "markdown",
      "metadata": {},
      "source": [
        "## 🟩 Exercise 26: Longest Word Finder\n",
        "**Problem:** Ask the user for a sentence. Identify and print the longest word. Strip punctuation from words before comparing lengths.\n",
        "\n",
        "**Input:**\n",
        "- A sentence with words and punctuation\n",
        "\n",
        "**Output:**\n",
        "- The longest word (punctuation removed)"
      ]
    },
    {
      "cell_type": "code",
      "execution_count": null,
      "metadata": {},
      "outputs": [],
      "source": []
    },
    {
      "cell_type": "markdown",
      "metadata": {},
      "source": [
        "## 🟩 Exercise 27: Sentence Type Breakdown\n",
        "**Problem:** Ask the user for a block of text. Count how many sentences end with `.`, `?`, and `!`. Display a breakdown of sentence types.\n",
        "\n",
        "**Input:**\n",
        "- A block of text\n",
        "\n",
        "**Output:**\n",
        "- Total number of sentences\n",
        "- Number of declarative (.), interrogative (?), and exclamatory (!) sentences"
      ]
    },
    {
      "cell_type": "code",
      "execution_count": null,
      "metadata": {},
      "outputs": [],
      "source": []
    },
    {
      "cell_type": "markdown",
      "metadata": {},
      "source": [
        "## 🔐 Exercise 28: Brute-Force Caesar Decryption\n",
        "**Problem:** Ask the user for encrypted text. Print all 25 possible Caesar cipher shifts to help the user identify the correct decryption.\n",
        "\n",
        "**Input:**\n",
        "- A string of encrypted text\n",
        "\n",
        "**Output:**\n",
        "- 25 lines showing each possible shift and the resulting decrypted text"
      ]
    },
    {
      "cell_type": "code",
      "execution_count": null,
      "metadata": {},
      "outputs": [],
      "source": []
    }
  ],
  "metadata": {
    "kernelspec": {
      "display_name": "venv",
      "language": "python",
      "name": "python3"
    },
    "language_info": {
      "name": "python",
      "version": "3.10.18"
    }
  },
  "nbformat": 4,
  "nbformat_minor": 2
}
